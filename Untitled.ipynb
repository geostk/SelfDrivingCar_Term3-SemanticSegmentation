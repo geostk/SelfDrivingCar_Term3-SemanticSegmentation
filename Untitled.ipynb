{
 "cells": [
  {
   "cell_type": "code",
   "execution_count": 2,
   "metadata": {
    "collapsed": false
   },
   "outputs": [
    {
     "name": "stdout",
     "output_type": "stream",
     "text": [
      "Help on package tensorflow:\n",
      "\n",
      "NAME\n",
      "    tensorflow\n",
      "\n",
      "DESCRIPTION\n",
      "    # Copyright 2015 The TensorFlow Authors. All Rights Reserved.\n",
      "    #\n",
      "    # Licensed under the Apache License, Version 2.0 (the \"License\");\n",
      "    # you may not use this file except in compliance with the License.\n",
      "    # You may obtain a copy of the License at\n",
      "    #\n",
      "    #     http://www.apache.org/licenses/LICENSE-2.0\n",
      "    #\n",
      "    # Unless required by applicable law or agreed to in writing, software\n",
      "    # distributed under the License is distributed on an \"AS IS\" BASIS,\n",
      "    # WITHOUT WARRANTIES OR CONDITIONS OF ANY KIND, either express or implied.\n",
      "    # See the License for the specific language governing permissions and\n",
      "    # limitations under the License.\n",
      "    # ==============================================================================\n",
      "\n",
      "PACKAGE CONTENTS\n",
      "    contrib (package)\n",
      "    core (package)\n",
      "    examples (package)\n",
      "    python (package)\n",
      "    tensorboard (package)\n",
      "\n",
      "SUBMODULES\n",
      "    app\n",
      "    compat\n",
      "    errors\n",
      "    flags\n",
      "    gfile\n",
      "    graph_util\n",
      "    image\n",
      "    logging\n",
      "    nn\n",
      "    platform\n",
      "    python_io\n",
      "    pywrap_tensorflow\n",
      "    resource_loader\n",
      "    resources\n",
      "    sdca\n",
      "    summary\n",
      "    sysconfig\n",
      "    test\n",
      "    train\n",
      "    user_ops\n",
      "\n",
      "DATA\n",
      "    COMPILER_VERSION = 'MSVC'\n",
      "    GIT_VERSION = \"b'unknown'\"\n",
      "    GRAPH_DEF_VERSION = 17\n",
      "    GRAPH_DEF_VERSION_MIN_CONSUMER = 0\n",
      "    GRAPH_DEF_VERSION_MIN_PRODUCER = 0\n",
      "    QUANTIZED_DTYPES = frozenset({tf.qint8, tf.quint8, tf.qint32, tf.qint8...\n",
      "    VERSION = '0.12.0-rc0'\n",
      "    __compiler_version__ = 'MSVC'\n",
      "    __git_version__ = \"b'unknown'\"\n",
      "    absolute_import = _Feature((2, 5, 0, 'alpha', 1), (3, 0, 0, 'alpha', 0...\n",
      "    bfloat16 = tf.bfloat16\n",
      "    bool = tf.bool\n",
      "    complex128 = tf.complex128\n",
      "    complex64 = tf.complex64\n",
      "    contrib = <tensorflow._LazyContribLoader object>\n",
      "    division = _Feature((2, 2, 0, 'alpha', 2), (3, 0, 0, 'alpha', 0), 8192...\n",
      "    double = tf.float64\n",
      "    float16 = tf.float16\n",
      "    float32 = tf.float32\n",
      "    float64 = tf.float64\n",
      "    half = tf.float16\n",
      "    int16 = tf.int16\n",
      "    int32 = tf.int32\n",
      "    int64 = tf.int64\n",
      "    int8 = tf.int8\n",
      "    newaxis = None\n",
      "    print_function = _Feature((2, 6, 0, 'alpha', 2), (3, 0, 0, 'alpha', 0)...\n",
      "    qint16 = tf.qint16\n",
      "    qint32 = tf.qint32\n",
      "    qint8 = tf.qint8\n",
      "    quint16 = tf.quint16\n",
      "    quint8 = tf.quint8\n",
      "    resource = tf.resource\n",
      "    string = tf.string\n",
      "    uint16 = tf.uint16\n",
      "    uint8 = tf.uint8\n",
      "\n",
      "VERSION\n",
      "    0.12.0-rc0\n",
      "\n",
      "FILE\n",
      "    c:\\users\\nalini\\anaconda3\\envs\\nspython\\lib\\site-packages\\tensorflow\\__init__.py\n",
      "\n",
      "\n"
     ]
    }
   ],
   "source": [
    "import tensorflow as tf\n",
    "tf.__version__\n",
    "help(tf)"
   ]
  },
  {
   "cell_type": "code",
   "execution_count": 4,
   "metadata": {
    "collapsed": false
   },
   "outputs": [
    {
     "ename": "AttributeError",
     "evalue": "module 'tensorflow.python.platform.test' has no attribute 'gpu_device_name'",
     "output_type": "error",
     "traceback": [
      "\u001b[0;31m---------------------------------------------------------------------------\u001b[0m",
      "\u001b[0;31mAttributeError\u001b[0m                            Traceback (most recent call last)",
      "\u001b[0;32m<ipython-input-4-d69178dbea80>\u001b[0m in \u001b[0;36m<module>\u001b[0;34m()\u001b[0m\n\u001b[1;32m      1\u001b[0m \u001b[1;32mimport\u001b[0m \u001b[0mtensorflow\u001b[0m \u001b[1;32mas\u001b[0m \u001b[0mtf\u001b[0m\u001b[1;33m\u001b[0m\u001b[0m\n\u001b[1;32m      2\u001b[0m \u001b[1;31m# Check for a GPU\u001b[0m\u001b[1;33m\u001b[0m\u001b[1;33m\u001b[0m\u001b[0m\n\u001b[0;32m----> 3\u001b[0;31m \u001b[1;32mif\u001b[0m \u001b[1;32mnot\u001b[0m \u001b[0mtf\u001b[0m\u001b[1;33m.\u001b[0m\u001b[0mtest\u001b[0m\u001b[1;33m.\u001b[0m\u001b[0mgpu_device_name\u001b[0m\u001b[1;33m(\u001b[0m\u001b[1;33m)\u001b[0m\u001b[1;33m:\u001b[0m\u001b[1;33m\u001b[0m\u001b[0m\n\u001b[0m\u001b[1;32m      4\u001b[0m     \u001b[0mwarnings\u001b[0m\u001b[1;33m.\u001b[0m\u001b[0mwarn\u001b[0m\u001b[1;33m(\u001b[0m\u001b[1;34m'No GPU found. Please use a GPU to train your neural network.'\u001b[0m\u001b[1;33m)\u001b[0m\u001b[1;33m\u001b[0m\u001b[0m\n\u001b[1;32m      5\u001b[0m \u001b[1;32melse\u001b[0m\u001b[1;33m:\u001b[0m\u001b[1;33m\u001b[0m\u001b[0m\n",
      "\u001b[0;31mAttributeError\u001b[0m: module 'tensorflow.python.platform.test' has no attribute 'gpu_device_name'"
     ]
    }
   ],
   "source": [
    "import tensorflow as tf\n",
    "# Check for a GPU\n",
    "if not tf.test.gpu_device_name():\n",
    "    warnings.warn('No GPU found. Please use a GPU to train your neural network.')\n",
    "else:\n",
    "    print('Default GPU Device: {}'.format(tf.test.gpu_device_name()))"
   ]
  },
  {
   "cell_type": "code",
   "execution_count": null,
   "metadata": {
    "collapsed": true
   },
   "outputs": [],
   "source": []
  }
 ],
 "metadata": {
  "anaconda-cloud": {},
  "kernelspec": {
   "display_name": "Python [conda env:nsPython]",
   "language": "python",
   "name": "conda-env-nsPython-py"
  },
  "language_info": {
   "codemirror_mode": {
    "name": "ipython",
    "version": 3
   },
   "file_extension": ".py",
   "mimetype": "text/x-python",
   "name": "python",
   "nbconvert_exporter": "python",
   "pygments_lexer": "ipython3",
   "version": "3.5.2"
  }
 },
 "nbformat": 4,
 "nbformat_minor": 1
}
